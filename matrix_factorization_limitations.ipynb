{
 "cells": [
  {
   "cell_type": "markdown",
   "metadata": {},
   "source": [
    "## Investigating limitations of sklearn's non-negative matrix factorization library"
   ]
  },
  {
   "cell_type": "markdown",
   "metadata": {},
   "source": [
    "The following code investigates the limitations of sklearn's non-negative matrix factorization library."
   ]
  },
  {
   "cell_type": "code",
   "execution_count": 1,
   "metadata": {},
   "outputs": [],
   "source": [
    "# Importing necessary libraries\n",
    "import pandas as pd\n",
    "import numpy as np\n",
    "import matplotlib.pyplot as plt\n",
    "import seaborn as sns\n",
    "from sklearn.feature_extraction.text import CountVectorizer\n",
    "from sklearn.decomposition import TruncatedSVD\n",
    "from sklearn.pipeline import make_pipeline\n",
    "from sklearn.preprocessing import Normalizer\n",
    "from sklearn.linear_model import LogisticRegression\n",
    "from sklearn.metrics import accuracy_score, confusion_matrix, classification_report\n",
    "from sklearn.model_selection import GridSearchCV\n",
    "from sklearn.ensemble import RandomForestClassifier\n",
    "from sklearn.model_selection import train_test_split\n",
    "from sklearn.model_selection import cross_val_score\n",
    "from sklearn.feature_extraction.text import TfidfVectorizer\n",
    "from sklearn.metrics import mean_squared_error\n",
    "from math import sqrt"
   ]
  },
  {
   "cell_type": "markdown",
   "metadata": {},
   "source": [
    "Part 1"
   ]
  },
  {
   "cell_type": "code",
   "execution_count": 2,
   "metadata": {},
   "outputs": [
    {
     "name": "stdout",
     "output_type": "stream",
     "text": [
      "RMSE: 3.4530633627495573\n"
     ]
    },
    {
     "name": "stderr",
     "output_type": "stream",
     "text": [
      "C:\\Users\\gtnov\\AppData\\Local\\Temp\\ipykernel_4792\\3417046265.py:34: FutureWarning: A value is trying to be set on a copy of a DataFrame or Series through chained assignment using an inplace method.\n",
      "The behavior will change in pandas 3.0. This inplace method will never work because the intermediate object on which we are setting values always behaves as a copy.\n",
      "\n",
      "For example, when doing 'df[col].method(value, inplace=True)', try using 'df.method({col: value}, inplace=True)' or df[col] = df[col].method(value) instead, to perform the operation inplace on the original object.\n",
      "\n",
      "\n",
      "  test['predicted_rating'].fillna(global_average_rating, inplace=True)\n"
     ]
    }
   ],
   "source": [
    "# Load the data\n",
    "users = pd.read_csv('movie_data/users.csv')\n",
    "movies = pd.read_csv('movie_data/movies.csv')\n",
    "train = pd.read_csv('movie_data/train.csv')\n",
    "test = pd.read_csv('movie_data/test.csv')\n",
    "\n",
    "# Create a user-movie matrix\n",
    "train_data = pd.pivot_table(train, index='uID', columns='mID', values='rating')\n",
    "\n",
    "# Fill missing values with zeros\n",
    "train_data_filled = train_data.fillna(0)\n",
    "\n",
    "# Perform SVD\n",
    "svd = TruncatedSVD(n_components=50, random_state=42)\n",
    "train_data_svd = svd.fit_transform(train_data_filled)\n",
    "\n",
    "# Create a DataFrame from the SVD results\n",
    "train_data_svd_df = pd.DataFrame(train_data_svd, index=train_data.index)\n",
    "\n",
    "# Predict the ratings for the test data\n",
    "def predict(row):\n",
    "    try:\n",
    "        return train_data_svd_df.loc[row['uID']].dot(svd.components_[:, row['mID']-1])\n",
    "    except IndexError:\n",
    "        return np.nan\n",
    "\n",
    "# Apply the predict function to each row in the test data\n",
    "test['predicted_rating'] = test.apply(predict, axis=1)\n",
    "\n",
    "# Calculate the global average rating\n",
    "global_average_rating = train['rating'].mean()\n",
    "\n",
    "# Fill NaN values in the predicted ratings with the global average rating\n",
    "test['predicted_rating'].fillna(global_average_rating, inplace=True)\n",
    "\n",
    "# Calculate the RMSE\n",
    "rmse = sqrt(mean_squared_error(test['rating'], test['predicted_rating']))\n",
    "print(f'RMSE: {rmse}')"
   ]
  },
  {
   "cell_type": "markdown",
   "metadata": {},
   "source": [
    "RMSE stands for Root Mean Square Error. It is a commonly used metric to measure the error of a model in predicting quantitative data.\n",
    "\n",
    "The RMSE gives a relatively high weight to large errors because the differences are squared before they are averaged. This means that RMSE is more useful when large errors are particularly undesirable.\n",
    "\n",
    "In the context of this code, the RMSE is being used to measure the accuracy of the predicted movie ratings. A lower RMSE indicates a better fit of the model to the data."
   ]
  },
  {
   "cell_type": "markdown",
   "metadata": {},
   "source": [
    "Part 2"
   ]
  },
  {
   "cell_type": "markdown",
   "metadata": {},
   "source": [
    "The result is a relatively high RMSE. This did not work well compared to simple baseline or similarity-based methods. This could be due to several reasons:\n",
    "* Cold Start Problem.\n",
    " The SVD method might not work well when there are new users or new movies that were not in the training data. This is known as the cold start problem in recommendation systems. The SVD method relies on having some existing data about users and movies to make predictions. If a user or a movie is not in the training data, the method might not be able to make accurate predictions.\n",
    "* Number of Components.\n",
    " The number of components used in the SVD (50 in this case) might not be optimal. Using too few components might result in loss of important information, while using too many might include noise. You could try experimenting with different numbers of components to see if it improves the RMSE.\n",
    "* Global Average Imputation.\n",
    " Filling missing predictions with the global average rating is a simple imputation method, but it might not always give the best results. It assumes that the average rating is a good substitute for missing ratings, which might not be the case. For example, some users might consistently give higher or lower ratings than the average."
   ]
  },
  {
   "cell_type": "markdown",
   "metadata": {},
   "source": []
  }
 ],
 "metadata": {
  "kernelspec": {
   "display_name": "Python 3",
   "language": "python",
   "name": "python3"
  },
  "language_info": {
   "codemirror_mode": {
    "name": "ipython",
    "version": 3
   },
   "file_extension": ".py",
   "mimetype": "text/x-python",
   "name": "python",
   "nbconvert_exporter": "python",
   "pygments_lexer": "ipython3",
   "version": "3.11.9"
  }
 },
 "nbformat": 4,
 "nbformat_minor": 2
}
