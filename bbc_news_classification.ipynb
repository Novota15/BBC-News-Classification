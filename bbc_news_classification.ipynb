{
 "cells": [
  {
   "cell_type": "markdown",
   "metadata": {},
   "source": [
    "# BBC News Classification Project"
   ]
  },
  {
   "cell_type": "markdown",
   "metadata": {},
   "source": [
    "## Project Overview\n",
    "\n",
    "A Jupyter notebook with exploratory data analysis (EDA) procedure, model building and training, and comparison with supervised learning. \n",
    "\n",
    "### Author\n",
    "\n",
    "Grant Novota"
   ]
  },
  {
   "cell_type": "code",
   "execution_count": 1,
   "metadata": {},
   "outputs": [],
   "source": [
    "# Importing necessary libraries\n",
    "import pandas as pd\n",
    "import numpy as np\n",
    "import matplotlib.pyplot as plt\n",
    "import seaborn as sns\n",
    "from sklearn.feature_extraction.text import CountVectorizer\n",
    "from sklearn.decomposition import TruncatedSVD\n",
    "from sklearn.pipeline import make_pipeline\n",
    "from sklearn.preprocessing import Normalizer\n",
    "from sklearn.linear_model import LogisticRegression\n",
    "from sklearn.metrics import accuracy_score, confusion_matrix, classification_report\n",
    "from sklearn.model_selection import GridSearchCV\n",
    "from sklearn.ensemble import RandomForestClassifier\n",
    "from sklearn.model_selection import train_test_split\n",
    "from sklearn.model_selection import cross_val_score\n",
    "from sklearn.feature_extraction.text import TfidfVectorizer\n",
    "from sklearn.metrics import mean_squared_error\n",
    "from math import sqrt"
   ]
  },
  {
   "cell_type": "code",
   "execution_count": 2,
   "metadata": {},
   "outputs": [],
   "source": [
    "# import the test and train data\n",
    "training_data = pd.read_csv('learn-ai-bbc/BBC News Train.csv')\n",
    "test_data = pd.read_csv('learn-ai-bbc/BBC News Test.csv')"
   ]
  },
  {
   "cell_type": "markdown",
   "metadata": {},
   "source": [
    "First, let's inspect the data to understand its structure, missing values, and basic statistics. Then, we can visualize the data to get a better understanding of the distribution of classes and the length of the news articles. Finally, we'll clean the data by removing any unnecessary characters, converting all text to lowercase, and removing stop words."
   ]
  },
  {
   "cell_type": "code",
   "execution_count": 5,
   "metadata": {},
   "outputs": [
    {
     "name": "stdout",
     "output_type": "stream",
     "text": [
      "   ArticleId                                               Text  Category\n",
      "0       1833  worldcom ex-boss launches defence lawyers defe...  business\n",
      "1        154  german business confidence slides german busin...  business\n",
      "2       1101  bbc poll indicates economic gloom citizens in ...  business\n",
      "3       1976  lifestyle  governs mobile choice  faster  bett...      tech\n",
      "4        917  enron bosses in $168m payout eighteen former e...  business\n",
      "ArticleId    0\n",
      "Text         0\n",
      "Category     0\n",
      "dtype: int64\n",
      "ArticleId    0\n",
      "Text         0\n",
      "Category     0\n",
      "dtype: int64\n",
      "         ArticleId\n",
      "count  1490.000000\n",
      "mean   1119.696644\n",
      "std     641.826283\n",
      "min       2.000000\n",
      "25%     565.250000\n",
      "50%    1112.500000\n",
      "75%    1680.750000\n",
      "max    2224.000000\n"
     ]
    },
    {
     "data": {
      "image/png": "[encoded data removed]",
      "text/plain": [
       "<Figure size 640x480 with 1 Axes>"
      ]
     },
     "metadata": {},
     "output_type": "display_data"
    },
    {
     "data": {
      "image/png": "[encoded data removed]",
      "text/plain": [
       "<Figure size 640x480 with 1 Axes>"
      ]
     },
     "metadata": {},
     "output_type": "display_data"
    }
   ],
   "source": [
    "# Inspect the data\n",
    "print(training_data.head())\n",
    "\n",
    "# Check for missing values\n",
    "print(training_data.isnull().sum())\n",
    "print(test_data.isnull().sum())\n",
    "\n",
    "# Basic statistics\n",
    "print(training_data.describe())\n",
    "\n",
    "# Visualize the distribution of classes in the training data\n",
    "sns.countplot(x='Category', data=training_data)\n",
    "plt.show()\n",
    "\n",
    "# Visualize the length of the news articles\n",
    "training_data['Text'].str.len().hist()\n",
    "plt.show()\n",
    "\n",
    "# Clean the data\n",
    "training_data['Text'] = training_data['Text'].str.replace('[^\\w\\s]','').str.lower()\n",
    "test_data['Text'] = test_data['Text'].str.replace('[^\\w\\s]','').str.lower()\n",
    "\n",
    "# Remove stop words and transform the text data into a matrix of token counts\n",
    "vectorizer = CountVectorizer(stop_words='english')\n",
    "X_train = vectorizer.fit_transform(training_data['Text'])\n",
    "X_test = vectorizer.transform(test_data['Text'])"
   ]
  },
  {
   "cell_type": "markdown",
   "metadata": {},
   "source": [
    "Based on this exploratory data analysis (EDA), the plan of analysis would be to convert the cleaned text data into a matrix of TF-IDF features, then use a matrix factorization method like NMF or LSA for dimensionality reduction or topic extraction. After that, we can use a classifier to predict the labels of the news articles."
   ]
  },
  {
   "cell_type": "code",
   "execution_count": 6,
   "metadata": {},
   "outputs": [],
   "source": [
    "# Number of components to keep. This means it will reduce the data to 100 features.\n",
    "n_components = 100\n",
    "\n",
    "svd = TruncatedSVD(n_components)\n",
    "normalizer = Normalizer(copy=False)\n",
    "lsa = make_pipeline(svd, normalizer)\n",
    "\n",
    "# Apply the pipeline\n",
    "X_train_lsa = lsa.fit_transform(X_train)\n",
    "X_test_lsa = lsa.fit_transform(X_test)\n",
    "\n",
    "# Now, X_train_lsa and X_test_lsa are the transformed versions of X_train and X_test, respectively."
   ]
  },
  {
   "cell_type": "markdown",
   "metadata": {},
   "source": [
    "To measure the performance of the model, we first need to train a classifier on the transformed data. Let's use a simple logistic regression classifier for this purpose. After training the classifier, we can use accuracy, confusion matrix, etc., to inspect the performance."
   ]
  },
  {
   "cell_type": "code",
   "execution_count": 7,
   "metadata": {},
   "outputs": [
    {
     "name": "stdout",
     "output_type": "stream",
     "text": [
      "Training accuracy: 0.9771812080536912\n",
      "Test accuracy: 0.9604026845637584\n",
      "\n",
      "Training data confusion matrix:\n",
      "[[322   1   8   0   5]\n",
      " [  2 264   4   1   2]\n",
      " [  3   0 267   0   4]\n",
      " [  1   0   0 345   0]\n",
      " [  0   2   0   1 258]]\n",
      "\n",
      "Test data confusion matrix:\n",
      "[[322   1   8   0   5]\n",
      " [  5 253   7   5   3]\n",
      " [  8   0 260   0   6]\n",
      " [  1   0   1 344   0]\n",
      " [  4   2   1   2 252]]\n",
      "\n",
      "Training data classification report:\n",
      "               precision    recall  f1-score   support\n",
      "\n",
      "     business       0.98      0.96      0.97       336\n",
      "entertainment       0.99      0.97      0.98       273\n",
      "     politics       0.96      0.97      0.97       274\n",
      "        sport       0.99      1.00      1.00       346\n",
      "         tech       0.96      0.99      0.97       261\n",
      "\n",
      "     accuracy                           0.98      1490\n",
      "    macro avg       0.98      0.98      0.98      1490\n",
      " weighted avg       0.98      0.98      0.98      1490\n",
      "\n",
      "\n",
      "Test data classification report:\n",
      "               precision    recall  f1-score   support\n",
      "\n",
      "     business       0.95      0.96      0.95       336\n",
      "entertainment       0.99      0.93      0.96       273\n",
      "     politics       0.94      0.95      0.94       274\n",
      "        sport       0.98      0.99      0.99       346\n",
      "         tech       0.95      0.97      0.96       261\n",
      "\n",
      "     accuracy                           0.96      1490\n",
      "    macro avg       0.96      0.96      0.96      1490\n",
      " weighted avg       0.96      0.96      0.96      1490\n",
      "\n"
     ]
    }
   ],
   "source": [
    "# Create a logistic regression classifier\n",
    "clf = LogisticRegression()\n",
    "\n",
    "# Train the classifier\n",
    "clf.fit(X_train_lsa, training_data['Category'])\n",
    "\n",
    "# Predict the labels\n",
    "train_preds = clf.predict(X_train_lsa)\n",
    "test_preds = clf.predict(X_test_lsa)\n",
    "\n",
    "# Calculate the accuracy\n",
    "train_accuracy = accuracy_score(training_data['Category'], train_preds)\n",
    "test_accuracy = accuracy_score(test_data['Category'], test_preds)\n",
    "\n",
    "# Print the accuracies\n",
    "print(f'Training accuracy: {train_accuracy}')\n",
    "print(f'Test accuracy: {test_accuracy}')\n",
    "\n",
    "# Print the confusion matrix for the training data\n",
    "print('\\nTraining data confusion matrix:')\n",
    "print(confusion_matrix(training_data['Category'], train_preds))\n",
    "\n",
    "# Print the confusion matrix for the test data\n",
    "print('\\nTest data confusion matrix:')\n",
    "print(confusion_matrix(test_data['Category'], test_preds))\n",
    "\n",
    "# Print the classification report for the training data\n",
    "print('\\nTraining data classification report:')\n",
    "print(classification_report(training_data['Category'], train_preds))\n",
    "\n",
    "# Print the classification report for the test data\n",
    "print('\\nTest data classification report:')\n",
    "print(classification_report(test_data['Category'], test_preds))"
   ]
  },
  {
   "cell_type": "markdown",
   "metadata": {},
   "source": [
    "To improve the test accuracy, we can try including regularization and cross-validation:"
   ]
  },
  {
   "cell_type": "code",
   "execution_count": 8,
   "metadata": {},
   "outputs": [
    {
     "name": "stdout",
     "output_type": "stream",
     "text": [
      "Training accuracy: 0.9530201342281879\n",
      "Test accuracy: 0.9395973154362416\n",
      "Cross-validated accuracy: 0.946979865771812\n",
      "\n",
      "Training data confusion matrix:\n",
      "[[319   1  10   0   6]\n",
      " [  6 252   9   4   2]\n",
      " [ 11   0 258   1   4]\n",
      " [  1   0   0 345   0]\n",
      " [  6   3   1   5 246]]\n",
      "\n",
      "Test data confusion matrix:\n",
      "[[319   1  11   0   5]\n",
      " [ 10 240  12   9   2]\n",
      " [ 12   1 255   1   5]\n",
      " [  1   0   0 345   0]\n",
      " [  9   4   1   6 241]]\n",
      "\n",
      "Training data classification report:\n",
      "               precision    recall  f1-score   support\n",
      "\n",
      "     business       0.93      0.95      0.94       336\n",
      "entertainment       0.98      0.92      0.95       273\n",
      "     politics       0.93      0.94      0.93       274\n",
      "        sport       0.97      1.00      0.98       346\n",
      "         tech       0.95      0.94      0.95       261\n",
      "\n",
      "     accuracy                           0.95      1490\n",
      "    macro avg       0.95      0.95      0.95      1490\n",
      " weighted avg       0.95      0.95      0.95      1490\n",
      "\n",
      "\n",
      "Test data classification report:\n",
      "               precision    recall  f1-score   support\n",
      "\n",
      "     business       0.91      0.95      0.93       336\n",
      "entertainment       0.98      0.88      0.92       273\n",
      "     politics       0.91      0.93      0.92       274\n",
      "        sport       0.96      1.00      0.98       346\n",
      "         tech       0.95      0.92      0.94       261\n",
      "\n",
      "     accuracy                           0.94      1490\n",
      "    macro avg       0.94      0.94      0.94      1490\n",
      " weighted avg       0.94      0.94      0.94      1490\n",
      "\n"
     ]
    }
   ],
   "source": [
    "# Create a logistic regression classifier with regularization\n",
    "clf = LogisticRegression(C=0.1)\n",
    "\n",
    "# Train the classifier\n",
    "clf.fit(X_train_lsa, training_data['Category'])\n",
    "\n",
    "# Predict the labels\n",
    "train_preds = clf.predict(X_train_lsa)\n",
    "test_preds = clf.predict(X_test_lsa)\n",
    "\n",
    "# Calculate the accuracy\n",
    "train_accuracy = accuracy_score(training_data['Category'], train_preds)\n",
    "test_accuracy = accuracy_score(test_data['Category'], test_preds)\n",
    "\n",
    "# Print the accuracies\n",
    "print(f'Training accuracy: {train_accuracy}')\n",
    "print(f'Test accuracy: {test_accuracy}')\n",
    "\n",
    "# Calculate and print cross-validated accuracy\n",
    "cv_scores = cross_val_score(clf, X_train_lsa, training_data['Category'], cv=5)\n",
    "print(f'Cross-validated accuracy: {np.mean(cv_scores)}')\n",
    "\n",
    "# Print the confusion matrix for the training data\n",
    "print('\\nTraining data confusion matrix:')\n",
    "print(confusion_matrix(training_data['Category'], train_preds))\n",
    "\n",
    "# Print the confusion matrix for the test data\n",
    "print('\\nTest data confusion matrix:')\n",
    "print(confusion_matrix(test_data['Category'], test_preds))\n",
    "\n",
    "# Print the classification report for the training data\n",
    "print('\\nTraining data classification report:')\n",
    "print(classification_report(training_data['Category'], train_preds))\n",
    "\n",
    "# Print the classification report for the test data\n",
    "print('\\nTest data classification report:')\n",
    "print(classification_report(test_data['Category'], test_preds))"
   ]
  },
  {
   "cell_type": "markdown",
   "metadata": {},
   "source": [
    "The results of this are interesting. Regularization and cross-validation did not improve model performance. The model was already high performing as-is."
   ]
  },
  {
   "cell_type": "markdown",
   "metadata": {},
   "source": [
    "To further improve the model or to understand how different hyperparameters affect the model's performance, we can perform a hyperparameter tuning. In the case of Logistic Regression, some of the hyperparameters we can tune are:\n",
    "\n",
    "* C: Inverse of regularization strength. Smaller values specify stronger regularization.\n",
    "* penalty: Used to specify the norm used in the penalization (e.g., 'l2').\n",
    "* solver: Algorithm to use in the optimization problem (e.g., 'liblinear', 'newton-cg', 'lbfgs', 'sag', 'saga')."
   ]
  },
  {
   "cell_type": "code",
   "execution_count": 9,
   "metadata": {},
   "outputs": [
    {
     "name": "stdout",
     "output_type": "stream",
     "text": [
      "  param_C  mean_test_score  std_test_score  rank_test_score\n",
      "0   0.001         0.400671        0.017320                6\n",
      "1    0.01         0.722819        0.010946                5\n",
      "2     0.1         0.946980        0.014917                4\n",
      "3       1         0.965101        0.010946                1\n",
      "4      10         0.959732        0.014704                2\n",
      "5     100         0.956376        0.017372                3\n"
     ]
    },
    {
     "data": {
      "image/png": "[encoded data removed]",
      "text/plain": [
       "<Figure size 1000x600 with 1 Axes>"
      ]
     },
     "metadata": {},
     "output_type": "display_data"
    }
   ],
   "source": [
    "# Define the parameter grid\n",
    "param_grid = {'C': [0.001, 0.01, 0.1, 1, 10, 100]}\n",
    "\n",
    "# Create a GridSearchCV object\n",
    "grid = GridSearchCV(LogisticRegression(), param_grid, cv=5)\n",
    "\n",
    "# Fit the model to the data\n",
    "grid.fit(X_train_lsa, training_data['Category'])\n",
    "\n",
    "# Create a DataFrame from the grid search results\n",
    "results = pd.DataFrame(grid.cv_results_)\n",
    "\n",
    "# Display the summary table\n",
    "print(results[['param_C', 'mean_test_score', 'std_test_score', 'rank_test_score']])\n",
    "\n",
    "# Convert 'param_C' to a numeric type\n",
    "results['param_C'] = pd.to_numeric(results['param_C'])\n",
    "\n",
    "# Plot the mean test scores\n",
    "plt.figure(figsize=(10, 6))\n",
    "plt.plot(results['param_C'], results['mean_test_score'], marker='o')\n",
    "plt.fill_between(results['param_C'], \n",
    "                 results['mean_test_score'] - results['std_test_score'], \n",
    "                 results['mean_test_score'] + results['std_test_score'], \n",
    "                 alpha=0.1)\n",
    "plt.title('Model performance vs. C')\n",
    "plt.xlabel('C')\n",
    "plt.ylabel('Mean Test Score')\n",
    "plt.xscale('log')\n",
    "plt.grid(True)\n",
    "plt.show()"
   ]
  },
  {
   "cell_type": "markdown",
   "metadata": {},
   "source": [
    "Let's now pick and train a supervised learning method and compare the results:"
   ]
  },
  {
   "cell_type": "code",
   "execution_count": 10,
   "metadata": {},
   "outputs": [
    {
     "name": "stdout",
     "output_type": "stream",
     "text": [
      "Train accuracy: 1.0\n",
      "Test accuracy: 0.9932885906040269\n"
     ]
    }
   ],
   "source": [
    "# Define the parameter grid\n",
    "param_grid_rf = {'n_estimators': [100, 200, 300], 'max_depth': [5, 10, 15]}\n",
    "\n",
    "# Create a GridSearchCV object\n",
    "grid_rf = GridSearchCV(RandomForestClassifier(), param_grid_rf, cv=5)\n",
    "\n",
    "# Fit the model to the data\n",
    "grid_rf.fit(X_train_lsa, training_data['Category'])\n",
    "\n",
    "# Predict on train and test data\n",
    "train_preds_rf = grid_rf.predict(X_train_lsa)\n",
    "test_preds_rf = grid_rf.predict(X_test_lsa)\n",
    "\n",
    "# Calculate and print train and test accuracy\n",
    "train_accuracy_rf = accuracy_score(training_data['Category'], train_preds_rf)\n",
    "test_accuracy_rf = accuracy_score(test_data['Category'], test_preds_rf)\n",
    "\n",
    "print(f\"Train accuracy: {train_accuracy_rf}\")\n",
    "print(f\"Test accuracy: {test_accuracy_rf}\")"
   ]
  },
  {
   "cell_type": "code",
   "execution_count": 11,
   "metadata": {},
   "outputs": [
    {
     "name": "stdout",
     "output_type": "stream",
     "text": [
      "Fraction: 0.1\n",
      "Train accuracy: 0.9194630872483222\n",
      "Test accuracy: 0.9181208053691275\n",
      "\n",
      "Fraction: 0.2\n",
      "Train accuracy: 0.9516778523489933\n",
      "Test accuracy: 0.951006711409396\n",
      "\n",
      "Fraction: 0.5\n",
      "Train accuracy: 0.9718120805369127\n",
      "Test accuracy: 0.9677852348993289\n",
      "\n"
     ]
    }
   ],
   "source": [
    "# Define the fractions of training data to use\n",
    "fractions = [0.1, 0.2, 0.5]\n",
    "\n",
    "# Initialize lists to store results\n",
    "train_accuracies = []\n",
    "test_accuracies = []\n",
    "\n",
    "# Loop over the fractions\n",
    "for fraction in fractions:\n",
    "    # Sample a fraction of the training data\n",
    "    sample = training_data.sample(frac=fraction, random_state=1)\n",
    "\n",
    "    # Fit the model to the sampled data\n",
    "    grid_rf.fit(X_train_lsa[sample.index], sample['Category'])\n",
    "\n",
    "    # Predict on train and test data\n",
    "    train_preds_rf = grid_rf.predict(X_train_lsa)\n",
    "    test_preds_rf = grid_rf.predict(X_test_lsa)\n",
    "\n",
    "    # Calculate and store train and test accuracy\n",
    "    train_accuracies.append(accuracy_score(training_data['Category'], train_preds_rf))\n",
    "    test_accuracies.append(accuracy_score(test_data['Category'], test_preds_rf))\n",
    "\n",
    "for fraction, train_accuracy, test_accuracy in zip(fractions, train_accuracies, test_accuracies):\n",
    "    print(f\"Fraction: {fraction}\")\n",
    "    print(f\"Train accuracy: {train_accuracy}\")\n",
    "    print(f\"Test accuracy: {test_accuracy}\")\n",
    "    print()"
   ]
  },
  {
   "cell_type": "markdown",
   "metadata": {},
   "source": []
  }
 ],
 "metadata": {
  "kernelspec": {
   "display_name": "Python 3",
   "language": "python",
   "name": "python3"
  },
  "language_info": {
   "codemirror_mode": {
    "name": "ipython",
    "version": 3
   },
   "file_extension": ".py",
   "mimetype": "text/x-python",
   "name": "python",
   "nbconvert_exporter": "python",
   "pygments_lexer": "ipython3",
   "version": "3.11.9"
  }
 },
 "nbformat": 4,
 "nbformat_minor": 2
}
